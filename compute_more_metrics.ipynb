{
 "cells": [
  {
   "cell_type": "code",
   "execution_count": 55,
   "id": "032a6fc1-9f6e-4042-b8ff-51b81ef9ba52",
   "metadata": {},
   "outputs": [],
   "source": [
    "import os\n",
    "os.environ[\"JAVA_HOME\"] = \"C:\\Program Files\\Java\\jdk-21\""
   ]
  },
  {
   "cell_type": "code",
   "execution_count": 14,
   "id": "4dfc422c-45d9-4c89-afbf-5db9448462de",
   "metadata": {},
   "outputs": [],
   "source": [
    "#import pyterrier as pt\n",
    "import pandas as pd\n",
    "import ir_measures\n",
    "from ir_measures import *"
   ]
  },
  {
   "cell_type": "code",
   "execution_count": 3,
   "id": "8da3d88e-1f37-4302-92e3-6ee516990ed4",
   "metadata": {},
   "outputs": [],
   "source": [
    "#pt.init(tqdm='notebook')"
   ]
  },
  {
   "cell_type": "code",
   "execution_count": 56,
   "id": "bfdba608-5eef-4fd8-a99d-58ebf9c202ee",
   "metadata": {},
   "outputs": [],
   "source": [
    "downsampled_queries = pd.read_csv('./files to colab/queries_smol.csv', index_col=0)"
   ]
  },
  {
   "cell_type": "code",
   "execution_count": 58,
   "id": "a37fb26a-2677-4ee6-87cc-30642c7c3ba7",
   "metadata": {},
   "outputs": [],
   "source": [
    "baseline = pd.read_csv('./files to colab/baseline_BM25_results_smol.csv', index_col=0)\n",
    "baseline_Bo1 = pd.read_csv('./files to colab/BM25_Bo1_results_smol.csv', index_col=0)\n",
    "baseline_RM3 = pd.read_csv('./files to colab/BM25_RM3_results_smol.csv', index_col=0)\n",
    "zero_shot = pd.read_csv('./files to colab/ZS_LLM_results_smol.csv', index_col=0)\n",
    "zero_shot_q0 = pd.read_csv('./files to colab/ZS_LLM_Q0_results_smol.csv', index_col=0)\n",
    "few_shot = pd.read_csv('./files to colab/FS_LLM_results_smol.csv', index_col=0)\n",
    "few_shot_q0 = pd.read_csv('./files to colab/FS_LLM_Q0_results_smol.csv', index_col=0)"
   ]
  },
  {
   "cell_type": "code",
   "execution_count": 59,
   "id": "f20cecdc-85d0-4d67-b649-9baac8390cd3",
   "metadata": {},
   "outputs": [],
   "source": [
    "downsampled_qrels = pd.read_csv('./files to colab/downsampled_qrels.csv', index_col=0)"
   ]
  },
  {
   "cell_type": "code",
   "execution_count": 60,
   "id": "74b4be8b-c68a-48ae-84b2-5c79f70a5ceb",
   "metadata": {},
   "outputs": [],
   "source": [
    "downsampled_qrels = downsampled_qrels.rename(columns={'qid': 'query_id', 'docno': 'doc_id', 'label': 'relevance'})"
   ]
  },
  {
   "cell_type": "code",
   "execution_count": 61,
   "id": "bcd64129-a604-4711-b9da-8b9da85d59b0",
   "metadata": {},
   "outputs": [
    {
     "data": {
      "text/html": [
       "<div>\n",
       "<style scoped>\n",
       "    .dataframe tbody tr th:only-of-type {\n",
       "        vertical-align: middle;\n",
       "    }\n",
       "\n",
       "    .dataframe tbody tr th {\n",
       "        vertical-align: top;\n",
       "    }\n",
       "\n",
       "    .dataframe thead th {\n",
       "        text-align: right;\n",
       "    }\n",
       "</style>\n",
       "<table border=\"1\" class=\"dataframe\">\n",
       "  <thead>\n",
       "    <tr style=\"text-align: right;\">\n",
       "      <th></th>\n",
       "      <th>query_id</th>\n",
       "      <th>doc_id</th>\n",
       "      <th>relevance</th>\n",
       "      <th>iteration</th>\n",
       "    </tr>\n",
       "  </thead>\n",
       "  <tbody>\n",
       "    <tr>\n",
       "      <th>0</th>\n",
       "      <td>7267365</td>\n",
       "      <td>D424122</td>\n",
       "      <td>1</td>\n",
       "      <td>0</td>\n",
       "    </tr>\n",
       "    <tr>\n",
       "      <th>1</th>\n",
       "      <td>5948492</td>\n",
       "      <td>D1550515</td>\n",
       "      <td>1</td>\n",
       "      <td>0</td>\n",
       "    </tr>\n",
       "    <tr>\n",
       "      <th>2</th>\n",
       "      <td>7765461</td>\n",
       "      <td>D3190483</td>\n",
       "      <td>1</td>\n",
       "      <td>0</td>\n",
       "    </tr>\n",
       "    <tr>\n",
       "      <th>3</th>\n",
       "      <td>10865189</td>\n",
       "      <td>D2540267</td>\n",
       "      <td>1</td>\n",
       "      <td>0</td>\n",
       "    </tr>\n",
       "    <tr>\n",
       "      <th>4</th>\n",
       "      <td>10865189</td>\n",
       "      <td>D2540265</td>\n",
       "      <td>1</td>\n",
       "      <td>0</td>\n",
       "    </tr>\n",
       "  </tbody>\n",
       "</table>\n",
       "</div>"
      ],
      "text/plain": [
       "   query_id    doc_id  relevance  iteration\n",
       "0   7267365   D424122          1          0\n",
       "1   5948492  D1550515          1          0\n",
       "2   7765461  D3190483          1          0\n",
       "3  10865189  D2540267          1          0\n",
       "4  10865189  D2540265          1          0"
      ]
     },
     "execution_count": 61,
     "metadata": {},
     "output_type": "execute_result"
    }
   ],
   "source": [
    "downsampled_qrels.head()"
   ]
  },
  {
   "cell_type": "code",
   "execution_count": 62,
   "id": "a66c2e73-70b4-4a9d-86a0-c4e58e6e8a4b",
   "metadata": {},
   "outputs": [
    {
     "data": {
      "text/html": [
       "<div>\n",
       "<style scoped>\n",
       "    .dataframe tbody tr th:only-of-type {\n",
       "        vertical-align: middle;\n",
       "    }\n",
       "\n",
       "    .dataframe tbody tr th {\n",
       "        vertical-align: top;\n",
       "    }\n",
       "\n",
       "    .dataframe thead th {\n",
       "        text-align: right;\n",
       "    }\n",
       "</style>\n",
       "<table border=\"1\" class=\"dataframe\">\n",
       "  <thead>\n",
       "    <tr style=\"text-align: right;\">\n",
       "      <th></th>\n",
       "      <th>qid</th>\n",
       "      <th>docid</th>\n",
       "      <th>docno</th>\n",
       "      <th>rank</th>\n",
       "      <th>score</th>\n",
       "      <th>query</th>\n",
       "    </tr>\n",
       "  </thead>\n",
       "  <tbody>\n",
       "    <tr>\n",
       "      <th>0</th>\n",
       "      <td>7267365</td>\n",
       "      <td>656653</td>\n",
       "      <td>D424123</td>\n",
       "      <td>0</td>\n",
       "      <td>37.781522</td>\n",
       "      <td>10 day weather fresno ca</td>\n",
       "    </tr>\n",
       "    <tr>\n",
       "      <th>1</th>\n",
       "      <td>7267365</td>\n",
       "      <td>2660201</td>\n",
       "      <td>D1674968</td>\n",
       "      <td>1</td>\n",
       "      <td>37.464743</td>\n",
       "      <td>10 day weather fresno ca</td>\n",
       "    </tr>\n",
       "    <tr>\n",
       "      <th>2</th>\n",
       "      <td>7267365</td>\n",
       "      <td>2954309</td>\n",
       "      <td>D3322503</td>\n",
       "      <td>2</td>\n",
       "      <td>37.070667</td>\n",
       "      <td>10 day weather fresno ca</td>\n",
       "    </tr>\n",
       "    <tr>\n",
       "      <th>3</th>\n",
       "      <td>7267365</td>\n",
       "      <td>841217</td>\n",
       "      <td>D110596</td>\n",
       "      <td>3</td>\n",
       "      <td>35.673794</td>\n",
       "      <td>10 day weather fresno ca</td>\n",
       "    </tr>\n",
       "    <tr>\n",
       "      <th>4</th>\n",
       "      <td>7267365</td>\n",
       "      <td>2706147</td>\n",
       "      <td>D1904534</td>\n",
       "      <td>4</td>\n",
       "      <td>35.473843</td>\n",
       "      <td>10 day weather fresno ca</td>\n",
       "    </tr>\n",
       "  </tbody>\n",
       "</table>\n",
       "</div>"
      ],
      "text/plain": [
       "       qid    docid     docno  rank      score                     query\n",
       "0  7267365   656653   D424123     0  37.781522  10 day weather fresno ca\n",
       "1  7267365  2660201  D1674968     1  37.464743  10 day weather fresno ca\n",
       "2  7267365  2954309  D3322503     2  37.070667  10 day weather fresno ca\n",
       "3  7267365   841217   D110596     3  35.673794  10 day weather fresno ca\n",
       "4  7267365  2706147  D1904534     4  35.473843  10 day weather fresno ca"
      ]
     },
     "execution_count": 62,
     "metadata": {},
     "output_type": "execute_result"
    }
   ],
   "source": [
    "baseline.head()"
   ]
  },
  {
   "cell_type": "code",
   "execution_count": 63,
   "id": "7dd7ff8d-b1d1-48bc-becc-23bfeacea4a7",
   "metadata": {},
   "outputs": [
    {
     "data": {
      "text/html": [
       "<div>\n",
       "<style scoped>\n",
       "    .dataframe tbody tr th:only-of-type {\n",
       "        vertical-align: middle;\n",
       "    }\n",
       "\n",
       "    .dataframe tbody tr th {\n",
       "        vertical-align: top;\n",
       "    }\n",
       "\n",
       "    .dataframe thead th {\n",
       "        text-align: right;\n",
       "    }\n",
       "</style>\n",
       "<table border=\"1\" class=\"dataframe\">\n",
       "  <thead>\n",
       "    <tr style=\"text-align: right;\">\n",
       "      <th></th>\n",
       "      <th>query_id</th>\n",
       "      <th>docid</th>\n",
       "      <th>doc_id</th>\n",
       "      <th>rank</th>\n",
       "      <th>score</th>\n",
       "      <th>query</th>\n",
       "    </tr>\n",
       "  </thead>\n",
       "  <tbody>\n",
       "    <tr>\n",
       "      <th>0</th>\n",
       "      <td>7267365</td>\n",
       "      <td>656653</td>\n",
       "      <td>D424123</td>\n",
       "      <td>0</td>\n",
       "      <td>37.781522</td>\n",
       "      <td>10 day weather fresno ca</td>\n",
       "    </tr>\n",
       "    <tr>\n",
       "      <th>1</th>\n",
       "      <td>7267365</td>\n",
       "      <td>2660201</td>\n",
       "      <td>D1674968</td>\n",
       "      <td>1</td>\n",
       "      <td>37.464743</td>\n",
       "      <td>10 day weather fresno ca</td>\n",
       "    </tr>\n",
       "    <tr>\n",
       "      <th>2</th>\n",
       "      <td>7267365</td>\n",
       "      <td>2954309</td>\n",
       "      <td>D3322503</td>\n",
       "      <td>2</td>\n",
       "      <td>37.070667</td>\n",
       "      <td>10 day weather fresno ca</td>\n",
       "    </tr>\n",
       "    <tr>\n",
       "      <th>3</th>\n",
       "      <td>7267365</td>\n",
       "      <td>841217</td>\n",
       "      <td>D110596</td>\n",
       "      <td>3</td>\n",
       "      <td>35.673794</td>\n",
       "      <td>10 day weather fresno ca</td>\n",
       "    </tr>\n",
       "    <tr>\n",
       "      <th>4</th>\n",
       "      <td>7267365</td>\n",
       "      <td>2706147</td>\n",
       "      <td>D1904534</td>\n",
       "      <td>4</td>\n",
       "      <td>35.473843</td>\n",
       "      <td>10 day weather fresno ca</td>\n",
       "    </tr>\n",
       "  </tbody>\n",
       "</table>\n",
       "</div>"
      ],
      "text/plain": [
       "   query_id    docid    doc_id  rank      score                     query\n",
       "0   7267365   656653   D424123     0  37.781522  10 day weather fresno ca\n",
       "1   7267365  2660201  D1674968     1  37.464743  10 day weather fresno ca\n",
       "2   7267365  2954309  D3322503     2  37.070667  10 day weather fresno ca\n",
       "3   7267365   841217   D110596     3  35.673794  10 day weather fresno ca\n",
       "4   7267365  2706147  D1904534     4  35.473843  10 day weather fresno ca"
      ]
     },
     "execution_count": 63,
     "metadata": {},
     "output_type": "execute_result"
    }
   ],
   "source": [
    "baseline = baseline.rename(columns={'qid': 'query_id', 'docno': 'doc_id'})\n",
    "baseline.head()"
   ]
  },
  {
   "cell_type": "code",
   "execution_count": 64,
   "id": "8aae0abf-fc46-4d49-8e2a-bce33213105b",
   "metadata": {},
   "outputs": [],
   "source": [
    "baseline['query_id'] = baseline['query_id'].astype('str')\n",
    "baseline['doc_id'] = baseline['doc_id'].astype('str')\n",
    "downsampled_qrels['query_id'] = downsampled_qrels['query_id'].astype('str')\n",
    "downsampled_qrels['doc_id'] = downsampled_qrels['doc_id'].astype('str')"
   ]
  },
  {
   "cell_type": "code",
   "execution_count": 65,
   "id": "8b1f3787-56fe-4630-a358-1b97257fc424",
   "metadata": {},
   "outputs": [
    {
     "data": {
      "text/plain": [
       "{nDCG@10: 0.22367740754892332,\n",
       " P@5: 0.07368421052631623,\n",
       " Judged@10: 0.051600492459218536}"
      ]
     },
     "execution_count": 65,
     "metadata": {},
     "output_type": "execute_result"
    }
   ],
   "source": [
    "ir_measures.calc_aggregate([nDCG@10, P@5, Judged@10], downsampled_qrels, baseline)"
   ]
  },
  {
   "cell_type": "code",
   "execution_count": 66,
   "id": "3816b5c2-05bb-448b-a834-5e800c989276",
   "metadata": {},
   "outputs": [],
   "source": [
    "evaluator = ir_measures.evaluator([AP, P@10, R@10, RR, nDCG, nDCG@10, NumQ, NumRel, NumRet, NumRet(rel=1)], downsampled_qrels)"
   ]
  },
  {
   "cell_type": "code",
   "execution_count": 67,
   "id": "dd28e35b-4b69-480b-987a-5a539023ff85",
   "metadata": {},
   "outputs": [
    {
     "data": {
      "text/plain": [
       "{NumRet: 101806.0,\n",
       " nDCG@10: 0.22367740754892332,\n",
       " NumRel: 1820.0,\n",
       " NumRet(rel=1): 1050.0,\n",
       " RR: 0.2299335192492724,\n",
       " AP: 0.18789960230149524,\n",
       " NumQ: 1048.0,\n",
       " nDCG: 0.2843507371370783,\n",
       " P@10: 0.05032317636195784,\n",
       " R@10: 0.3263997980064462}"
      ]
     },
     "execution_count": 67,
     "metadata": {},
     "output_type": "execute_result"
    }
   ],
   "source": [
    "evaluator.calc_aggregate(baseline)"
   ]
  },
  {
   "cell_type": "code",
   "execution_count": 68,
   "id": "546ce6e1-2676-40b0-908c-5ebadba665aa",
   "metadata": {},
   "outputs": [],
   "source": [
    "baseline_Bo1 = baseline_Bo1.rename(columns={'qid': 'query_id', 'docno': 'doc_id'})\n",
    "baseline_Bo1['query_id'] = baseline_Bo1['query_id'].astype('str')\n",
    "baseline_Bo1['doc_id'] = baseline_Bo1['doc_id'].astype('str')"
   ]
  },
  {
   "cell_type": "code",
   "execution_count": 69,
   "id": "895141f4-e3eb-4ec5-80d2-c8521b775b3f",
   "metadata": {},
   "outputs": [
    {
     "data": {
      "text/plain": [
       "{NumRet: 104800.0,\n",
       " nDCG@10: 0.21730559968670862,\n",
       " NumRel: 1820.0,\n",
       " NumRet(rel=1): 1073.0,\n",
       " RR: 0.21614788754908776,\n",
       " AP: 0.17998928569944084,\n",
       " NumQ: 1048.0,\n",
       " nDCG: 0.27893672002490066,\n",
       " P@10: 0.05115420129270577,\n",
       " R@10: 0.33049702938899606}"
      ]
     },
     "execution_count": 69,
     "metadata": {},
     "output_type": "execute_result"
    }
   ],
   "source": [
    "evaluator.calc_aggregate(baseline_Bo1)"
   ]
  },
  {
   "cell_type": "code",
   "execution_count": 70,
   "id": "eb4343ab-bafa-4822-9290-5e830841c42d",
   "metadata": {},
   "outputs": [],
   "source": [
    "baseline_RM3 = baseline_RM3.rename(columns={'qid': 'query_id', 'docno': 'doc_id'})\n",
    "baseline_RM3['query_id'] = baseline_RM3['query_id'].astype('str')\n",
    "baseline_RM3['doc_id'] = baseline_RM3['doc_id'].astype('str')"
   ]
  },
  {
   "cell_type": "code",
   "execution_count": 71,
   "id": "f7a7950d-31c9-4e93-96cb-530b23afc4d5",
   "metadata": {},
   "outputs": [
    {
     "data": {
      "text/plain": [
       "{NumRet: 104800.0,\n",
       " nDCG@10: 0.20768199690022907,\n",
       " NumRel: 1820.0,\n",
       " NumRet(rel=1): 1058.0,\n",
       " RR: 0.19860857872182827,\n",
       " AP: 0.16731345152725197,\n",
       " NumQ: 1048.0,\n",
       " nDCG: 0.2676359849847558,\n",
       " P@10: 0.04967682363804286,\n",
       " R@10: 0.3327981037122311}"
      ]
     },
     "execution_count": 71,
     "metadata": {},
     "output_type": "execute_result"
    }
   ],
   "source": [
    "evaluator.calc_aggregate(baseline_RM3)"
   ]
  },
  {
   "cell_type": "code",
   "execution_count": 72,
   "id": "c3a3a194-454f-4cef-aab7-a027735923e6",
   "metadata": {},
   "outputs": [],
   "source": [
    "zero_shot = zero_shot.rename(columns={'qid': 'query_id', 'docno': 'doc_id'})\n",
    "zero_shot['query_id'] = zero_shot['query_id'].astype('str')\n",
    "zero_shot['doc_id'] = zero_shot['doc_id'].astype('str')"
   ]
  },
  {
   "cell_type": "code",
   "execution_count": 73,
   "id": "f207ac69-caa6-4c95-8c58-0246120f1dc5",
   "metadata": {},
   "outputs": [
    {
     "data": {
      "text/plain": [
       "{NumRet: 108100.0,\n",
       " nDCG@10: 0.1424027183503422,\n",
       " NumRel: 1873.0,\n",
       " NumRet(rel=1): 793.0,\n",
       " RR: 0.14507221737130915,\n",
       " AP: 0.11851883004581276,\n",
       " NumQ: 1081.0,\n",
       " nDCG: 0.1953026572899281,\n",
       " P@10: 0.032594644506001996,\n",
       " R@10: 0.21850212985947057}"
      ]
     },
     "execution_count": 73,
     "metadata": {},
     "output_type": "execute_result"
    }
   ],
   "source": [
    "evaluator.calc_aggregate(zero_shot)"
   ]
  },
  {
   "cell_type": "code",
   "execution_count": 74,
   "id": "2485fb7a-418a-4d5d-bfa8-1b01d199e88a",
   "metadata": {},
   "outputs": [],
   "source": [
    "zero_shot_q0 = zero_shot_q0.rename(columns={'qid': 'query_id', 'docno': 'doc_id'})\n",
    "zero_shot_q0['query_id'] = zero_shot_q0['query_id'].astype('str')\n",
    "zero_shot_q0['doc_id'] = zero_shot_q0['doc_id'].astype('str')"
   ]
  },
  {
   "cell_type": "code",
   "execution_count": 75,
   "id": "d284d805-523c-49b4-9116-19c78b4b5048",
   "metadata": {},
   "outputs": [
    {
     "data": {
      "text/plain": [
       "{NumRet: 108100.0,\n",
       " nDCG@10: 0.16675929364429823,\n",
       " NumRel: 1873.0,\n",
       " NumRet(rel=1): 890.0,\n",
       " RR: 0.16912807310965505,\n",
       " AP: 0.13862144549141112,\n",
       " NumQ: 1081.0,\n",
       " nDCG: 0.22348315341558064,\n",
       " P@10: 0.03776546629732246,\n",
       " R@10: 0.2542629500385733}"
      ]
     },
     "execution_count": 75,
     "metadata": {},
     "output_type": "execute_result"
    }
   ],
   "source": [
    "evaluator.calc_aggregate(zero_shot_q0)"
   ]
  },
  {
   "cell_type": "code",
   "execution_count": 76,
   "id": "6e467ab7-1b97-4f9c-b975-07798fba3048",
   "metadata": {},
   "outputs": [],
   "source": [
    "few_shot = few_shot.rename(columns={'qid': 'query_id', 'docno': 'doc_id'})\n",
    "few_shot['query_id'] = few_shot['query_id'].astype('str')\n",
    "few_shot['doc_id'] = few_shot['doc_id'].astype('str')"
   ]
  },
  {
   "cell_type": "code",
   "execution_count": 77,
   "id": "478089da-69f7-4555-964b-1e4c5901fb6b",
   "metadata": {},
   "outputs": [
    {
     "data": {
      "text/plain": [
       "{NumRet: 107912.0,\n",
       " nDCG@10: 0.13433626894069622,\n",
       " NumRel: 1872.0,\n",
       " NumRet(rel=1): 688.0,\n",
       " RR: 0.1395517356292006,\n",
       " AP: 0.1145955703122536,\n",
       " NumQ: 1080.0,\n",
       " nDCG: 0.17575804183006724,\n",
       " P@10: 0.029824561403508892,\n",
       " R@10: 0.19157333125477172}"
      ]
     },
     "execution_count": 77,
     "metadata": {},
     "output_type": "execute_result"
    }
   ],
   "source": [
    "evaluator.calc_aggregate(few_shot)"
   ]
  },
  {
   "cell_type": "code",
   "execution_count": 78,
   "id": "c508821e-8a44-4d7f-8040-be1af7bd4708",
   "metadata": {},
   "outputs": [],
   "source": [
    "few_shot_q0 = few_shot_q0.rename(columns={'qid': 'query_id', 'docno': 'doc_id'})\n",
    "few_shot_q0['query_id'] = few_shot_q0['query_id'].astype('str')\n",
    "few_shot_q0['doc_id'] = few_shot_q0['doc_id'].astype('str')"
   ]
  },
  {
   "cell_type": "code",
   "execution_count": 79,
   "id": "10091abe-fb93-440a-a4aa-f5b4ebf4daa6",
   "metadata": {},
   "outputs": [
    {
     "data": {
      "text/plain": [
       "{NumRet: 107971.0,\n",
       " nDCG@10: 0.1508848632501562,\n",
       " NumRel: 1873.0,\n",
       " NumRet(rel=1): 761.0,\n",
       " RR: 0.15597027452931037,\n",
       " AP: 0.12868283334589828,\n",
       " NumQ: 1081.0,\n",
       " nDCG: 0.1959705569918856,\n",
       " P@10: 0.03379501385041567,\n",
       " R@10: 0.21527403037098325}"
      ]
     },
     "execution_count": 79,
     "metadata": {},
     "output_type": "execute_result"
    }
   ],
   "source": [
    "evaluator.calc_aggregate(few_shot_q0)"
   ]
  },
  {
   "cell_type": "code",
   "execution_count": 80,
   "id": "cb24b2e3-1e5a-4aeb-97e8-bd2fc53a63ca",
   "metadata": {},
   "outputs": [],
   "source": [
    "# pt.Experiment(\n",
    "#     [baseline, baseline_Bo1, baseline_RM3, zero_shot, zero_shot_q0, few_shot, few_shot_q0],\n",
    "#     downsampled_queries,\n",
    "#     downsampled_qrels,\n",
    "#     eval_metrics=[\"map\", \"P_10\", \"recall_10\", \"recip_rank\", \"ndcg\", \"ndcg_cut_10\", \"num_q\", \"num_ret\", \"num_rel\", \"num_rel_ret\"],\n",
    "#     names=[\"Baseline_BM25\", \"Baseline_Bo1\", \"Baseline_RM3\", \"ZS_LLM\", \"ZS_LLM_Q0\", \"FS_LLM\", \"FS_LLM_Q0\"]\n",
    "# )"
   ]
  },
  {
   "cell_type": "code",
   "execution_count": null,
   "id": "dd8cf893-0b44-46b3-9b4a-70edf09292fe",
   "metadata": {},
   "outputs": [],
   "source": [
    "# pt.Evaluate([baseline, baseline_Bo1, baseline_RM3, zero_shot, zero_shot_q0, few_shot, few_shot_q0], \n",
    "#             downsampled_qrels, \n",
    "#             metrics=[\"map\", \"recip_rank\", \"ndcg\", \"ndcg_cut_10\", \"num_q\", \"num_ret\", \"num_rel\", \"num_rel_ret\"])"
   ]
  },
  {
   "cell_type": "code",
   "execution_count": null,
   "id": "4e1e08f2-95b7-456b-833f-67dabc05bbd4",
   "metadata": {},
   "outputs": [],
   "source": []
  }
 ],
 "metadata": {
  "kernelspec": {
   "display_name": "Python 3 (ipykernel)",
   "language": "python",
   "name": "python3"
  },
  "language_info": {
   "codemirror_mode": {
    "name": "ipython",
    "version": 3
   },
   "file_extension": ".py",
   "mimetype": "text/x-python",
   "name": "python",
   "nbconvert_exporter": "python",
   "pygments_lexer": "ipython3",
   "version": "3.11.0"
  }
 },
 "nbformat": 4,
 "nbformat_minor": 5
}
